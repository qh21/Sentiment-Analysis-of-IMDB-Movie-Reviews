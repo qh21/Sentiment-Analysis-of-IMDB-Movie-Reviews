{
 "cells": [
  {
   "cell_type": "markdown",
   "id": "2dcfe90a",
   "metadata": {},
   "source": [
    "<br><br><span style='font-size:50px'>Reading and Discovering the Dataset</span>"
   ]
  },
  {
   "cell_type": "markdown",
   "id": "35fc9c0e",
   "metadata": {},
   "source": [
    "<p>Dataset Source: <a href='https://www.kaggle.com/datasets/lakshmi25npathi/imdb-dataset-of-50k-movie-reviews'>https://www.kaggle.com/datasets/lakshmi25npathi/imdb-dataset-of-50k-movie-reviews</a></p>"
   ]
  },
  {
   "cell_type": "code",
   "execution_count": 2,
   "id": "56636a97",
   "metadata": {},
   "outputs": [],
   "source": [
    "import pandas as pd"
   ]
  },
  {
   "cell_type": "code",
   "execution_count": 3,
   "id": "afbd1d11",
   "metadata": {},
   "outputs": [],
   "source": [
    "data = pd.read_csv('IMDB Dataset.csv')"
   ]
  },
  {
   "cell_type": "code",
   "execution_count": 4,
   "id": "ed0e4ed4",
   "metadata": {},
   "outputs": [
    {
     "data": {
      "text/html": [
       "<div>\n",
       "<style scoped>\n",
       "    .dataframe tbody tr th:only-of-type {\n",
       "        vertical-align: middle;\n",
       "    }\n",
       "\n",
       "    .dataframe tbody tr th {\n",
       "        vertical-align: top;\n",
       "    }\n",
       "\n",
       "    .dataframe thead th {\n",
       "        text-align: right;\n",
       "    }\n",
       "</style>\n",
       "<table border=\"1\" class=\"dataframe\">\n",
       "  <thead>\n",
       "    <tr style=\"text-align: right;\">\n",
       "      <th></th>\n",
       "      <th>review</th>\n",
       "      <th>sentiment</th>\n",
       "    </tr>\n",
       "  </thead>\n",
       "  <tbody>\n",
       "    <tr>\n",
       "      <th>0</th>\n",
       "      <td>One of the other reviewers has mentioned that ...</td>\n",
       "      <td>positive</td>\n",
       "    </tr>\n",
       "    <tr>\n",
       "      <th>1</th>\n",
       "      <td>A wonderful little production. &lt;br /&gt;&lt;br /&gt;The...</td>\n",
       "      <td>positive</td>\n",
       "    </tr>\n",
       "    <tr>\n",
       "      <th>2</th>\n",
       "      <td>I thought this was a wonderful way to spend ti...</td>\n",
       "      <td>positive</td>\n",
       "    </tr>\n",
       "    <tr>\n",
       "      <th>3</th>\n",
       "      <td>Basically there's a family where a little boy ...</td>\n",
       "      <td>negative</td>\n",
       "    </tr>\n",
       "    <tr>\n",
       "      <th>4</th>\n",
       "      <td>Petter Mattei's \"Love in the Time of Money\" is...</td>\n",
       "      <td>positive</td>\n",
       "    </tr>\n",
       "    <tr>\n",
       "      <th>5</th>\n",
       "      <td>Probably my all-time favorite movie, a story o...</td>\n",
       "      <td>positive</td>\n",
       "    </tr>\n",
       "    <tr>\n",
       "      <th>6</th>\n",
       "      <td>I sure would like to see a resurrection of a u...</td>\n",
       "      <td>positive</td>\n",
       "    </tr>\n",
       "    <tr>\n",
       "      <th>7</th>\n",
       "      <td>This show was an amazing, fresh &amp; innovative i...</td>\n",
       "      <td>negative</td>\n",
       "    </tr>\n",
       "    <tr>\n",
       "      <th>8</th>\n",
       "      <td>Encouraged by the positive comments about this...</td>\n",
       "      <td>negative</td>\n",
       "    </tr>\n",
       "    <tr>\n",
       "      <th>9</th>\n",
       "      <td>If you like original gut wrenching laughter yo...</td>\n",
       "      <td>positive</td>\n",
       "    </tr>\n",
       "    <tr>\n",
       "      <th>10</th>\n",
       "      <td>Phil the Alien is one of those quirky films wh...</td>\n",
       "      <td>negative</td>\n",
       "    </tr>\n",
       "    <tr>\n",
       "      <th>11</th>\n",
       "      <td>I saw this movie when I was about 12 when it c...</td>\n",
       "      <td>negative</td>\n",
       "    </tr>\n",
       "    <tr>\n",
       "      <th>12</th>\n",
       "      <td>So im not a big fan of Boll's work but then ag...</td>\n",
       "      <td>negative</td>\n",
       "    </tr>\n",
       "    <tr>\n",
       "      <th>13</th>\n",
       "      <td>The cast played Shakespeare.&lt;br /&gt;&lt;br /&gt;Shakes...</td>\n",
       "      <td>negative</td>\n",
       "    </tr>\n",
       "    <tr>\n",
       "      <th>14</th>\n",
       "      <td>This a fantastic movie of three prisoners who ...</td>\n",
       "      <td>positive</td>\n",
       "    </tr>\n",
       "    <tr>\n",
       "      <th>15</th>\n",
       "      <td>Kind of drawn in by the erotic scenes, only to...</td>\n",
       "      <td>negative</td>\n",
       "    </tr>\n",
       "    <tr>\n",
       "      <th>16</th>\n",
       "      <td>Some films just simply should not be remade. T...</td>\n",
       "      <td>positive</td>\n",
       "    </tr>\n",
       "    <tr>\n",
       "      <th>17</th>\n",
       "      <td>This movie made it into one of my top 10 most ...</td>\n",
       "      <td>negative</td>\n",
       "    </tr>\n",
       "    <tr>\n",
       "      <th>18</th>\n",
       "      <td>I remember this film,it was the first film i h...</td>\n",
       "      <td>positive</td>\n",
       "    </tr>\n",
       "    <tr>\n",
       "      <th>19</th>\n",
       "      <td>An awful film! It must have been up against so...</td>\n",
       "      <td>negative</td>\n",
       "    </tr>\n",
       "  </tbody>\n",
       "</table>\n",
       "</div>"
      ],
      "text/plain": [
       "                                               review sentiment\n",
       "0   One of the other reviewers has mentioned that ...  positive\n",
       "1   A wonderful little production. <br /><br />The...  positive\n",
       "2   I thought this was a wonderful way to spend ti...  positive\n",
       "3   Basically there's a family where a little boy ...  negative\n",
       "4   Petter Mattei's \"Love in the Time of Money\" is...  positive\n",
       "5   Probably my all-time favorite movie, a story o...  positive\n",
       "6   I sure would like to see a resurrection of a u...  positive\n",
       "7   This show was an amazing, fresh & innovative i...  negative\n",
       "8   Encouraged by the positive comments about this...  negative\n",
       "9   If you like original gut wrenching laughter yo...  positive\n",
       "10  Phil the Alien is one of those quirky films wh...  negative\n",
       "11  I saw this movie when I was about 12 when it c...  negative\n",
       "12  So im not a big fan of Boll's work but then ag...  negative\n",
       "13  The cast played Shakespeare.<br /><br />Shakes...  negative\n",
       "14  This a fantastic movie of three prisoners who ...  positive\n",
       "15  Kind of drawn in by the erotic scenes, only to...  negative\n",
       "16  Some films just simply should not be remade. T...  positive\n",
       "17  This movie made it into one of my top 10 most ...  negative\n",
       "18  I remember this film,it was the first film i h...  positive\n",
       "19  An awful film! It must have been up against so...  negative"
      ]
     },
     "execution_count": 4,
     "metadata": {},
     "output_type": "execute_result"
    }
   ],
   "source": [
    "data.head(20)"
   ]
  },
  {
   "cell_type": "code",
   "execution_count": 22,
   "id": "f7d5d257",
   "metadata": {},
   "outputs": [
    {
     "data": {
      "text/html": [
       "<div>\n",
       "<style scoped>\n",
       "    .dataframe tbody tr th:only-of-type {\n",
       "        vertical-align: middle;\n",
       "    }\n",
       "\n",
       "    .dataframe tbody tr th {\n",
       "        vertical-align: top;\n",
       "    }\n",
       "\n",
       "    .dataframe thead th {\n",
       "        text-align: right;\n",
       "    }\n",
       "</style>\n",
       "<table border=\"1\" class=\"dataframe\">\n",
       "  <thead>\n",
       "    <tr style=\"text-align: right;\">\n",
       "      <th></th>\n",
       "      <th>review</th>\n",
       "      <th>sentiment</th>\n",
       "    </tr>\n",
       "  </thead>\n",
       "  <tbody>\n",
       "    <tr>\n",
       "      <th>48937</th>\n",
       "      <td>\"In the Mood for Love\" a teasing allegory of l...</td>\n",
       "      <td>positive</td>\n",
       "    </tr>\n",
       "    <tr>\n",
       "      <th>3340</th>\n",
       "      <td>I've always been a fan of Jackass, as well as ...</td>\n",
       "      <td>positive</td>\n",
       "    </tr>\n",
       "    <tr>\n",
       "      <th>28383</th>\n",
       "      <td>I suppose if you like pure action... you'll fi...</td>\n",
       "      <td>negative</td>\n",
       "    </tr>\n",
       "    <tr>\n",
       "      <th>11595</th>\n",
       "      <td>This is a very moving picture about 3 forty-so...</td>\n",
       "      <td>positive</td>\n",
       "    </tr>\n",
       "    <tr>\n",
       "      <th>6985</th>\n",
       "      <td>Let's see where to begin... bad acting; I'm no...</td>\n",
       "      <td>negative</td>\n",
       "    </tr>\n",
       "    <tr>\n",
       "      <th>11819</th>\n",
       "      <td>Let's set one thing straight: this movie does ...</td>\n",
       "      <td>positive</td>\n",
       "    </tr>\n",
       "    <tr>\n",
       "      <th>44348</th>\n",
       "      <td>let me say that i love Adam Sandler, watching ...</td>\n",
       "      <td>positive</td>\n",
       "    </tr>\n",
       "    <tr>\n",
       "      <th>16902</th>\n",
       "      <td>&lt;br /&gt;&lt;br /&gt;Summary: Not worth the film&lt;br /&gt;&lt;...</td>\n",
       "      <td>negative</td>\n",
       "    </tr>\n",
       "    <tr>\n",
       "      <th>47695</th>\n",
       "      <td>Once you sit down to see this film \" A Cannon ...</td>\n",
       "      <td>positive</td>\n",
       "    </tr>\n",
       "    <tr>\n",
       "      <th>11707</th>\n",
       "      <td>This is the type of film that makes you questi...</td>\n",
       "      <td>negative</td>\n",
       "    </tr>\n",
       "  </tbody>\n",
       "</table>\n",
       "</div>"
      ],
      "text/plain": [
       "                                                  review sentiment\n",
       "48937  \"In the Mood for Love\" a teasing allegory of l...  positive\n",
       "3340   I've always been a fan of Jackass, as well as ...  positive\n",
       "28383  I suppose if you like pure action... you'll fi...  negative\n",
       "11595  This is a very moving picture about 3 forty-so...  positive\n",
       "6985   Let's see where to begin... bad acting; I'm no...  negative\n",
       "11819  Let's set one thing straight: this movie does ...  positive\n",
       "44348  let me say that i love Adam Sandler, watching ...  positive\n",
       "16902  <br /><br />Summary: Not worth the film<br /><...  negative\n",
       "47695  Once you sit down to see this film \" A Cannon ...  positive\n",
       "11707  This is the type of film that makes you questi...  negative"
      ]
     },
     "execution_count": 22,
     "metadata": {},
     "output_type": "execute_result"
    }
   ],
   "source": [
    "data.sample(10)"
   ]
  },
  {
   "cell_type": "code",
   "execution_count": 23,
   "id": "b5a090ff",
   "metadata": {},
   "outputs": [
    {
     "name": "stdout",
     "output_type": "stream",
     "text": [
      "<class 'pandas.core.frame.DataFrame'>\n",
      "RangeIndex: 50000 entries, 0 to 49999\n",
      "Data columns (total 2 columns):\n",
      " #   Column     Non-Null Count  Dtype \n",
      "---  ------     --------------  ----- \n",
      " 0   review     50000 non-null  object\n",
      " 1   sentiment  50000 non-null  object\n",
      "dtypes: object(2)\n",
      "memory usage: 781.4+ KB\n"
     ]
    }
   ],
   "source": [
    "data.info()"
   ]
  },
  {
   "cell_type": "code",
   "execution_count": 24,
   "id": "080b46c7",
   "metadata": {},
   "outputs": [
    {
     "data": {
      "text/plain": [
       "418"
      ]
     },
     "execution_count": 24,
     "metadata": {},
     "output_type": "execute_result"
    }
   ],
   "source": [
    "data.duplicated().sum()"
   ]
  },
  {
   "cell_type": "code",
   "execution_count": null,
   "id": "c6b5fef9",
   "metadata": {},
   "outputs": [],
   "source": [
    "# duplicated_values = data[data['review'].duplicated()]['review']\n",
    "# duplicated_values"
   ]
  },
  {
   "cell_type": "code",
   "execution_count": 25,
   "id": "34cd181e",
   "metadata": {},
   "outputs": [],
   "source": [
    "data = data.drop_duplicates(subset=['review']).reset_index(drop=True)"
   ]
  },
  {
   "cell_type": "code",
   "execution_count": 26,
   "id": "5f7dc80f",
   "metadata": {},
   "outputs": [
    {
     "data": {
      "text/plain": [
       "positive    24884\n",
       "negative    24698\n",
       "Name: sentiment, dtype: int64"
      ]
     },
     "execution_count": 26,
     "metadata": {},
     "output_type": "execute_result"
    }
   ],
   "source": [
    "data['sentiment'].value_counts()"
   ]
  },
  {
   "cell_type": "code",
   "execution_count": 27,
   "id": "4a4be001",
   "metadata": {},
   "outputs": [],
   "source": [
    "import matplotlib.pyplot as plt"
   ]
  },
  {
   "cell_type": "code",
   "execution_count": 29,
   "id": "72a63b30",
   "metadata": {},
   "outputs": [
    {
     "data": {
      "text/plain": [
       "<function matplotlib.pyplot.show(close=None, block=None)>"
      ]
     },
     "execution_count": 29,
     "metadata": {},
     "output_type": "execute_result"
    },
    {
     "data": {
      "image/png": "[encoded data removed]",
      "text/plain": [
       "<Figure size 640x480 with 1 Axes>"
      ]
     },
     "metadata": {},
     "output_type": "display_data"
    }
   ],
   "source": [
    "data_dist = [\n",
    "    len(data[data['sentiment']=='positive']),\n",
    "    len(data[data['sentiment']=='negative'])\n",
    "]\n",
    "labels = ['Positive','Negative']\n",
    "plt.pie(data_dist, labels = labels)\n",
    "plt.show"
   ]
  },
  {
   "cell_type": "markdown",
   "id": "bf629611",
   "metadata": {},
   "source": [
    "<br><br><span style='font-size:50px'>Data Preprocessing</span>"
   ]
  },
  {
   "cell_type": "code",
   "execution_count": 30,
   "id": "46e74915",
   "metadata": {},
   "outputs": [],
   "source": [
    "import re"
   ]
  },
  {
   "cell_type": "markdown",
   "id": "bf53228c",
   "metadata": {},
   "source": [
    "<br><br><span style='font-size:30px'>Removing HTML Tags</span>"
   ]
  },
  {
   "cell_type": "code",
   "execution_count": 31,
   "id": "6f8f819c",
   "metadata": {},
   "outputs": [],
   "source": [
    "def removeHTML(text):\n",
    "    text = re.sub(r'<[^>]*>', '', text)\n",
    "    return(text)"
   ]
  },
  {
   "cell_type": "markdown",
   "id": "f931c079",
   "metadata": {},
   "source": [
    "<br><br><span style='font-size:30px'>Removing Stop Words</span>"
   ]
  },
  {
   "cell_type": "code",
   "execution_count": 32,
   "id": "a4d1846c",
   "metadata": {},
   "outputs": [],
   "source": [
    "from nltk.corpus import stopwords \n",
    "stop_words = stopwords.words('english') "
   ]
  },
  {
   "cell_type": "code",
   "execution_count": 33,
   "id": "ce2fe041",
   "metadata": {},
   "outputs": [],
   "source": [
    "def removeStopWords(text):\n",
    "    words = text.lower().split()\n",
    "    filtered_words = [word for word in words if word not in stop_words]\n",
    "    text = ' '.join(filtered_words)\n",
    "    return(text)"
   ]
  },
  {
   "cell_type": "markdown",
   "id": "616ed49a",
   "metadata": {},
   "source": [
    "<br><br><span style='font-size:30px'>Text Lemmatizing</span>"
   ]
  },
  {
   "cell_type": "code",
   "execution_count": 34,
   "id": "86ecb81c",
   "metadata": {},
   "outputs": [
    {
     "name": "stderr",
     "output_type": "stream",
     "text": [
      "[nltk_data] Downloading package wordnet to\n",
      "[nltk_data]     C:\\Users\\Qassem\\AppData\\Roaming\\nltk_data...\n",
      "[nltk_data]   Package wordnet is already up-to-date!\n"
     ]
    }
   ],
   "source": [
    "import nltk\n",
    "from nltk.stem import WordNetLemmatizer\n",
    "nltk.download('wordnet')\n",
    "lemmatizer = WordNetLemmatizer()"
   ]
  },
  {
   "cell_type": "code",
   "execution_count": 35,
   "id": "d7428927",
   "metadata": {},
   "outputs": [],
   "source": [
    "def Lemmatizing(text):\n",
    "    text = lemmatizer.lemmatize(text)\n",
    "    return(text)"
   ]
  },
  {
   "cell_type": "markdown",
   "id": "ed77cadd",
   "metadata": {},
   "source": [
    "<br><br><span style='font-size:30px'>Removing Noise</span>"
   ]
  },
  {
   "cell_type": "code",
   "execution_count": 36,
   "id": "8725ef49",
   "metadata": {},
   "outputs": [],
   "source": [
    "def removeNoise(text):\n",
    "    text = re.sub(r'[^a-zA-Z\\s]+', '', text) # Only keep English letters\n",
    "    text = re.sub(r'(\\w)\\1{2,}', r'\\1', text)   #Normalize Repeated Letters\n",
    "    text = re.sub(r'\\s{2,}', ' ', text).strip() # Removing extra spaces\n",
    "    return(text)"
   ]
  },
  {
   "cell_type": "markdown",
   "id": "3b7e13c4",
   "metadata": {},
   "source": [
    "<br><br><br><br><span style='font-size:50px'>Adding New Column for the Cleaned Text</span>"
   ]
  },
  {
   "cell_type": "code",
   "execution_count": 37,
   "id": "658a8e6b",
   "metadata": {},
   "outputs": [],
   "source": [
    "CleanedText = []"
   ]
  },
  {
   "cell_type": "code",
   "execution_count": 38,
   "id": "a113f957",
   "metadata": {},
   "outputs": [],
   "source": [
    "for i in range(len(data)):\n",
    "    text = data.review[i]\n",
    "    text = removeHTML(text)\n",
    "    text = removeStopWords(text)\n",
    "    text = Lemmatizing(text)\n",
    "    text = removeNoise(text)\n",
    "    CleanedText.append(text)"
   ]
  },
  {
   "cell_type": "code",
   "execution_count": 39,
   "id": "f629f2e1",
   "metadata": {
    "scrolled": true
   },
   "outputs": [],
   "source": [
    "data['CleanedText'] = CleanedText"
   ]
  },
  {
   "cell_type": "code",
   "execution_count": 15,
   "id": "6271df73",
   "metadata": {},
   "outputs": [],
   "source": [
    "#data = data.drop(['CleanedText'],axis=1)"
   ]
  },
  {
   "cell_type": "code",
   "execution_count": 40,
   "id": "f5800307",
   "metadata": {},
   "outputs": [
    {
     "data": {
      "text/html": [
       "<div>\n",
       "<style scoped>\n",
       "    .dataframe tbody tr th:only-of-type {\n",
       "        vertical-align: middle;\n",
       "    }\n",
       "\n",
       "    .dataframe tbody tr th {\n",
       "        vertical-align: top;\n",
       "    }\n",
       "\n",
       "    .dataframe thead th {\n",
       "        text-align: right;\n",
       "    }\n",
       "</style>\n",
       "<table border=\"1\" class=\"dataframe\">\n",
       "  <thead>\n",
       "    <tr style=\"text-align: right;\">\n",
       "      <th></th>\n",
       "      <th>review</th>\n",
       "      <th>sentiment</th>\n",
       "      <th>CleanedText</th>\n",
       "    </tr>\n",
       "  </thead>\n",
       "  <tbody>\n",
       "    <tr>\n",
       "      <th>0</th>\n",
       "      <td>One of the other reviewers has mentioned that ...</td>\n",
       "      <td>positive</td>\n",
       "      <td>one reviewers mentioned watching oz episode ho...</td>\n",
       "    </tr>\n",
       "    <tr>\n",
       "      <th>1</th>\n",
       "      <td>A wonderful little production. &lt;br /&gt;&lt;br /&gt;The...</td>\n",
       "      <td>positive</td>\n",
       "      <td>wonderful little production filming technique ...</td>\n",
       "    </tr>\n",
       "    <tr>\n",
       "      <th>2</th>\n",
       "      <td>I thought this was a wonderful way to spend ti...</td>\n",
       "      <td>positive</td>\n",
       "      <td>thought wonderful way spend time hot summer we...</td>\n",
       "    </tr>\n",
       "    <tr>\n",
       "      <th>3</th>\n",
       "      <td>Basically there's a family where a little boy ...</td>\n",
       "      <td>negative</td>\n",
       "      <td>basically theres family little boy jake thinks...</td>\n",
       "    </tr>\n",
       "    <tr>\n",
       "      <th>4</th>\n",
       "      <td>Petter Mattei's \"Love in the Time of Money\" is...</td>\n",
       "      <td>positive</td>\n",
       "      <td>petter matteis love time money visually stunni...</td>\n",
       "    </tr>\n",
       "  </tbody>\n",
       "</table>\n",
       "</div>"
      ],
      "text/plain": [
       "                                              review sentiment  \\\n",
       "0  One of the other reviewers has mentioned that ...  positive   \n",
       "1  A wonderful little production. <br /><br />The...  positive   \n",
       "2  I thought this was a wonderful way to spend ti...  positive   \n",
       "3  Basically there's a family where a little boy ...  negative   \n",
       "4  Petter Mattei's \"Love in the Time of Money\" is...  positive   \n",
       "\n",
       "                                         CleanedText  \n",
       "0  one reviewers mentioned watching oz episode ho...  \n",
       "1  wonderful little production filming technique ...  \n",
       "2  thought wonderful way spend time hot summer we...  \n",
       "3  basically theres family little boy jake thinks...  \n",
       "4  petter matteis love time money visually stunni...  "
      ]
     },
     "execution_count": 40,
     "metadata": {},
     "output_type": "execute_result"
    }
   ],
   "source": [
    "data.head()"
   ]
  },
  {
   "cell_type": "code",
   "execution_count": 46,
   "id": "c28a44bc",
   "metadata": {},
   "outputs": [
    {
     "data": {
      "text/html": [
       "<div>\n",
       "<style scoped>\n",
       "    .dataframe tbody tr th:only-of-type {\n",
       "        vertical-align: middle;\n",
       "    }\n",
       "\n",
       "    .dataframe tbody tr th {\n",
       "        vertical-align: top;\n",
       "    }\n",
       "\n",
       "    .dataframe thead th {\n",
       "        text-align: right;\n",
       "    }\n",
       "</style>\n",
       "<table border=\"1\" class=\"dataframe\">\n",
       "  <thead>\n",
       "    <tr style=\"text-align: right;\">\n",
       "      <th></th>\n",
       "      <th>review</th>\n",
       "      <th>sentiment</th>\n",
       "      <th>CleanedText</th>\n",
       "    </tr>\n",
       "  </thead>\n",
       "  <tbody>\n",
       "    <tr>\n",
       "      <th>2222</th>\n",
       "      <td>Fabulous film! Rented the DVD recently and was...</td>\n",
       "      <td>positive</td>\n",
       "      <td>fabulous film rented dvd recently floored stun...</td>\n",
       "    </tr>\n",
       "    <tr>\n",
       "      <th>34033</th>\n",
       "      <td>Hello again, I have been thinking about this m...</td>\n",
       "      <td>positive</td>\n",
       "      <td>hello again thinking movie life saw years old ...</td>\n",
       "    </tr>\n",
       "    <tr>\n",
       "      <th>47616</th>\n",
       "      <td>I saw this on TCM recently and, through the IM...</td>\n",
       "      <td>positive</td>\n",
       "      <td>saw tcm recently and imdb found seven crime do...</td>\n",
       "    </tr>\n",
       "    <tr>\n",
       "      <th>35651</th>\n",
       "      <td>Hard to believe that director Barbet Schroeder...</td>\n",
       "      <td>negative</td>\n",
       "      <td>hard believe director barbet schroeder majesti...</td>\n",
       "    </tr>\n",
       "    <tr>\n",
       "      <th>38027</th>\n",
       "      <td>If this film was just outrageously poor would ...</td>\n",
       "      <td>negative</td>\n",
       "      <td>film outrageously poor would fine problem many...</td>\n",
       "    </tr>\n",
       "    <tr>\n",
       "      <th>4992</th>\n",
       "      <td>An interesting slasher film with multiple susp...</td>\n",
       "      <td>negative</td>\n",
       "      <td>interesting slasher film multiple suspectsincl...</td>\n",
       "    </tr>\n",
       "    <tr>\n",
       "      <th>48829</th>\n",
       "      <td>Formulaic to the max. Neither title reflects t...</td>\n",
       "      <td>negative</td>\n",
       "      <td>formulaic max neither title reflects serials a...</td>\n",
       "    </tr>\n",
       "    <tr>\n",
       "      <th>13304</th>\n",
       "      <td>The acting is pretty cheesy, but for the peopl...</td>\n",
       "      <td>positive</td>\n",
       "      <td>acting pretty cheesy people area s detroit are...</td>\n",
       "    </tr>\n",
       "    <tr>\n",
       "      <th>28833</th>\n",
       "      <td>I went to see this movie at our college theate...</td>\n",
       "      <td>negative</td>\n",
       "      <td>went see movie college theater thirty years ag...</td>\n",
       "    </tr>\n",
       "    <tr>\n",
       "      <th>10543</th>\n",
       "      <td>A family with dad Louis (Dale Midkiff), mom Ra...</td>\n",
       "      <td>negative</td>\n",
       "      <td>family dad louis dale midkiff mom rachel denis...</td>\n",
       "    </tr>\n",
       "    <tr>\n",
       "      <th>10804</th>\n",
       "      <td>Although I have to admit I laughed more watchi...</td>\n",
       "      <td>negative</td>\n",
       "      <td>although admit laughed watching movie last com...</td>\n",
       "    </tr>\n",
       "    <tr>\n",
       "      <th>40553</th>\n",
       "      <td>I have never commented on IMDb before, but I f...</td>\n",
       "      <td>negative</td>\n",
       "      <td>never commented imdb before feel watching batm...</td>\n",
       "    </tr>\n",
       "    <tr>\n",
       "      <th>4702</th>\n",
       "      <td>some would argue this is better mainly because...</td>\n",
       "      <td>negative</td>\n",
       "      <td>would argue better mainly acting indeed far wo...</td>\n",
       "    </tr>\n",
       "    <tr>\n",
       "      <th>48704</th>\n",
       "      <td>This is a very odd film ... I wasn't really su...</td>\n",
       "      <td>negative</td>\n",
       "      <td>odd film really sure about n london lowlifes f...</td>\n",
       "    </tr>\n",
       "    <tr>\n",
       "      <th>43479</th>\n",
       "      <td>When i saw the first octopus movie it was a la...</td>\n",
       "      <td>negative</td>\n",
       "      <td>saw first octopus movie laugh see cheesy actin...</td>\n",
       "    </tr>\n",
       "    <tr>\n",
       "      <th>49074</th>\n",
       "      <td>Just got my copy of this DVD two disc set and ...</td>\n",
       "      <td>positive</td>\n",
       "      <td>got copy dvd two disc set perfect found overal...</td>\n",
       "    </tr>\n",
       "    <tr>\n",
       "      <th>15905</th>\n",
       "      <td>When the circus comes to town and places the l...</td>\n",
       "      <td>positive</td>\n",
       "      <td>circus comes town places lions cage directly b...</td>\n",
       "    </tr>\n",
       "    <tr>\n",
       "      <th>13506</th>\n",
       "      <td>Theodore Rex is possibly the greatest cinemati...</td>\n",
       "      <td>positive</td>\n",
       "      <td>theodore rex possibly greatest cinematic exper...</td>\n",
       "    </tr>\n",
       "    <tr>\n",
       "      <th>6891</th>\n",
       "      <td>This is an very good movie. This is one that I...</td>\n",
       "      <td>positive</td>\n",
       "      <td>good movie one would rent again like normal su...</td>\n",
       "    </tr>\n",
       "    <tr>\n",
       "      <th>48481</th>\n",
       "      <td>I normally don't comment on movies on IMDB, bu...</td>\n",
       "      <td>positive</td>\n",
       "      <td>normally comment movies imdb case feel like sh...</td>\n",
       "    </tr>\n",
       "  </tbody>\n",
       "</table>\n",
       "</div>"
      ],
      "text/plain": [
       "                                                  review sentiment  \\\n",
       "2222   Fabulous film! Rented the DVD recently and was...  positive   \n",
       "34033  Hello again, I have been thinking about this m...  positive   \n",
       "47616  I saw this on TCM recently and, through the IM...  positive   \n",
       "35651  Hard to believe that director Barbet Schroeder...  negative   \n",
       "38027  If this film was just outrageously poor would ...  negative   \n",
       "4992   An interesting slasher film with multiple susp...  negative   \n",
       "48829  Formulaic to the max. Neither title reflects t...  negative   \n",
       "13304  The acting is pretty cheesy, but for the peopl...  positive   \n",
       "28833  I went to see this movie at our college theate...  negative   \n",
       "10543  A family with dad Louis (Dale Midkiff), mom Ra...  negative   \n",
       "10804  Although I have to admit I laughed more watchi...  negative   \n",
       "40553  I have never commented on IMDb before, but I f...  negative   \n",
       "4702   some would argue this is better mainly because...  negative   \n",
       "48704  This is a very odd film ... I wasn't really su...  negative   \n",
       "43479  When i saw the first octopus movie it was a la...  negative   \n",
       "49074  Just got my copy of this DVD two disc set and ...  positive   \n",
       "15905  When the circus comes to town and places the l...  positive   \n",
       "13506  Theodore Rex is possibly the greatest cinemati...  positive   \n",
       "6891   This is an very good movie. This is one that I...  positive   \n",
       "48481  I normally don't comment on movies on IMDB, bu...  positive   \n",
       "\n",
       "                                             CleanedText  \n",
       "2222   fabulous film rented dvd recently floored stun...  \n",
       "34033  hello again thinking movie life saw years old ...  \n",
       "47616  saw tcm recently and imdb found seven crime do...  \n",
       "35651  hard believe director barbet schroeder majesti...  \n",
       "38027  film outrageously poor would fine problem many...  \n",
       "4992   interesting slasher film multiple suspectsincl...  \n",
       "48829  formulaic max neither title reflects serials a...  \n",
       "13304  acting pretty cheesy people area s detroit are...  \n",
       "28833  went see movie college theater thirty years ag...  \n",
       "10543  family dad louis dale midkiff mom rachel denis...  \n",
       "10804  although admit laughed watching movie last com...  \n",
       "40553  never commented imdb before feel watching batm...  \n",
       "4702   would argue better mainly acting indeed far wo...  \n",
       "48704  odd film really sure about n london lowlifes f...  \n",
       "43479  saw first octopus movie laugh see cheesy actin...  \n",
       "49074  got copy dvd two disc set perfect found overal...  \n",
       "15905  circus comes town places lions cage directly b...  \n",
       "13506  theodore rex possibly greatest cinematic exper...  \n",
       "6891   good movie one would rent again like normal su...  \n",
       "48481  normally comment movies imdb case feel like sh...  "
      ]
     },
     "execution_count": 46,
     "metadata": {},
     "output_type": "execute_result"
    }
   ],
   "source": [
    "data.sample(20)"
   ]
  },
  {
   "cell_type": "markdown",
   "id": "3b8366d4",
   "metadata": {},
   "source": [
    "<br><br><span style='font-size:50px'>Splitting Data into Training and Testing</span>"
   ]
  },
  {
   "cell_type": "code",
   "execution_count": 47,
   "id": "44745b7c",
   "metadata": {},
   "outputs": [],
   "source": [
    "from sklearn.model_selection import train_test_split"
   ]
  },
  {
   "cell_type": "code",
   "execution_count": 48,
   "id": "2a38be35",
   "metadata": {},
   "outputs": [],
   "source": [
    "train, test = train_test_split(data, test_size=0.2, random_state=0)"
   ]
  },
  {
   "cell_type": "markdown",
   "id": "186ac811",
   "metadata": {},
   "source": [
    "<br><br><span style='font-size:50px'>Feature Extraction using TF-IDF Vectorizer</span>"
   ]
  },
  {
   "cell_type": "code",
   "execution_count": 49,
   "id": "c90af4fe",
   "metadata": {},
   "outputs": [],
   "source": [
    "from sklearn.feature_extraction.text import TfidfVectorizer\n",
    "\n",
    "vectorizer = TfidfVectorizer()"
   ]
  },
  {
   "cell_type": "code",
   "execution_count": 50,
   "id": "2ae13d96",
   "metadata": {},
   "outputs": [],
   "source": [
    "X_train = vectorizer.fit_transform(train['CleanedText'])\n",
    "X_test = vectorizer.transform(test['CleanedText'])"
   ]
  },
  {
   "cell_type": "markdown",
   "id": "756b153a",
   "metadata": {},
   "source": [
    "<br><br><span style='font-size:50px'>Model Building & Evaluation</span>"
   ]
  },
  {
   "cell_type": "code",
   "execution_count": 51,
   "id": "829297a1",
   "metadata": {},
   "outputs": [],
   "source": [
    "from sklearn.metrics import classification_report,f1_score,accuracy_score"
   ]
  },
  {
   "cell_type": "markdown",
   "id": "5f1ed618",
   "metadata": {},
   "source": [
    "<br><br><span style='font-size:30px'>Multinomial Naive Bayes</span>"
   ]
  },
  {
   "cell_type": "code",
   "execution_count": 52,
   "id": "6f3f12c4",
   "metadata": {},
   "outputs": [],
   "source": [
    "from sklearn.naive_bayes import MultinomialNB"
   ]
  },
  {
   "cell_type": "code",
   "execution_count": 53,
   "id": "79d2fc94",
   "metadata": {
    "scrolled": false
   },
   "outputs": [
    {
     "data": {
      "text/html": [
       "<style>#sk-container-id-1 {color: black;}#sk-container-id-1 pre{padding: 0;}#sk-container-id-1 div.sk-toggleable {background-color: white;}#sk-container-id-1 label.sk-toggleable__label {cursor: pointer;display: block;width: 100%;margin-bottom: 0;padding: 0.3em;box-sizing: border-box;text-align: center;}#sk-container-id-1 label.sk-toggleable__label-arrow:before {content: \"▸\";float: left;margin-right: 0.25em;color: #696969;}#sk-container-id-1 label.sk-toggleable__label-arrow:hover:before {color: black;}#sk-container-id-1 div.sk-estimator:hover label.sk-toggleable__label-arrow:before {color: black;}#sk-container-id-1 div.sk-toggleable__content {max-height: 0;max-width: 0;overflow: hidden;text-align: left;background-color: #f0f8ff;}#sk-container-id-1 div.sk-toggleable__content pre {margin: 0.2em;color: black;border-radius: 0.25em;background-color: #f0f8ff;}#sk-container-id-1 input.sk-toggleable__control:checked~div.sk-toggleable__content {max-height: 200px;max-width: 100%;overflow: auto;}#sk-container-id-1 input.sk-toggleable__control:checked~label.sk-toggleable__label-arrow:before {content: \"▾\";}#sk-container-id-1 div.sk-estimator input.sk-toggleable__control:checked~label.sk-toggleable__label {background-color: #d4ebff;}#sk-container-id-1 div.sk-label input.sk-toggleable__control:checked~label.sk-toggleable__label {background-color: #d4ebff;}#sk-container-id-1 input.sk-hidden--visually {border: 0;clip: rect(1px 1px 1px 1px);clip: rect(1px, 1px, 1px, 1px);height: 1px;margin: -1px;overflow: hidden;padding: 0;position: absolute;width: 1px;}#sk-container-id-1 div.sk-estimator {font-family: monospace;background-color: #f0f8ff;border: 1px dotted black;border-radius: 0.25em;box-sizing: border-box;margin-bottom: 0.5em;}#sk-container-id-1 div.sk-estimator:hover {background-color: #d4ebff;}#sk-container-id-1 div.sk-parallel-item::after {content: \"\";width: 100%;border-bottom: 1px solid gray;flex-grow: 1;}#sk-container-id-1 div.sk-label:hover label.sk-toggleable__label {background-color: #d4ebff;}#sk-container-id-1 div.sk-serial::before {content: \"\";position: absolute;border-left: 1px solid gray;box-sizing: border-box;top: 0;bottom: 0;left: 50%;z-index: 0;}#sk-container-id-1 div.sk-serial {display: flex;flex-direction: column;align-items: center;background-color: white;padding-right: 0.2em;padding-left: 0.2em;position: relative;}#sk-container-id-1 div.sk-item {position: relative;z-index: 1;}#sk-container-id-1 div.sk-parallel {display: flex;align-items: stretch;justify-content: center;background-color: white;position: relative;}#sk-container-id-1 div.sk-item::before, #sk-container-id-1 div.sk-parallel-item::before {content: \"\";position: absolute;border-left: 1px solid gray;box-sizing: border-box;top: 0;bottom: 0;left: 50%;z-index: -1;}#sk-container-id-1 div.sk-parallel-item {display: flex;flex-direction: column;z-index: 1;position: relative;background-color: white;}#sk-container-id-1 div.sk-parallel-item:first-child::after {align-self: flex-end;width: 50%;}#sk-container-id-1 div.sk-parallel-item:last-child::after {align-self: flex-start;width: 50%;}#sk-container-id-1 div.sk-parallel-item:only-child::after {width: 0;}#sk-container-id-1 div.sk-dashed-wrapped {border: 1px dashed gray;margin: 0 0.4em 0.5em 0.4em;box-sizing: border-box;padding-bottom: 0.4em;background-color: white;}#sk-container-id-1 div.sk-label label {font-family: monospace;font-weight: bold;display: inline-block;line-height: 1.2em;}#sk-container-id-1 div.sk-label-container {text-align: center;}#sk-container-id-1 div.sk-container {/* jupyter's `normalize.less` sets `[hidden] { display: none; }` but bootstrap.min.css set `[hidden] { display: none !important; }` so we also need the `!important` here to be able to override the default hidden behavior on the sphinx rendered scikit-learn.org. See: https://github.com/scikit-learn/scikit-learn/issues/21755 */display: inline-block !important;position: relative;}#sk-container-id-1 div.sk-text-repr-fallback {display: none;}</style><div id=\"sk-container-id-1\" class=\"sk-top-container\"><div class=\"sk-text-repr-fallback\"><pre>MultinomialNB()</pre><b>In a Jupyter environment, please rerun this cell to show the HTML representation or trust the notebook. <br />On GitHub, the HTML representation is unable to render, please try loading this page with nbviewer.org.</b></div><div class=\"sk-container\" hidden><div class=\"sk-item\"><div class=\"sk-estimator sk-toggleable\"><input class=\"sk-toggleable__control sk-hidden--visually\" id=\"sk-estimator-id-1\" type=\"checkbox\" checked><label for=\"sk-estimator-id-1\" class=\"sk-toggleable__label sk-toggleable__label-arrow\">MultinomialNB</label><div class=\"sk-toggleable__content\"><pre>MultinomialNB()</pre></div></div></div></div></div>"
      ],
      "text/plain": [
       "MultinomialNB()"
      ]
     },
     "execution_count": 53,
     "metadata": {},
     "output_type": "execute_result"
    }
   ],
   "source": [
    "mnb = MultinomialNB()\n",
    "\n",
    "mnb.fit(X_train, train['sentiment'])"
   ]
  },
  {
   "cell_type": "code",
   "execution_count": 68,
   "id": "8cb2d19e",
   "metadata": {},
   "outputs": [],
   "source": [
    "pred_y_mnb = mnb.predict(X_test)"
   ]
  },
  {
   "cell_type": "code",
   "execution_count": 66,
   "id": "4b12df4e",
   "metadata": {},
   "outputs": [
    {
     "name": "stdout",
     "output_type": "stream",
     "text": [
      "Classification Report:\n",
      "\n",
      "              precision    recall  f1-score   support\n",
      "\n",
      "    negative       0.85      0.87      0.86      4909\n",
      "    positive       0.87      0.85      0.86      5008\n",
      "\n",
      "    accuracy                           0.86      9917\n",
      "   macro avg       0.86      0.86      0.86      9917\n",
      "weighted avg       0.86      0.86      0.86      9917\n",
      "\n",
      "____________________________________________________________________________________________________\n",
      "Accuracy: 0.8557023293334678\n",
      "____________________________________________________________________________________________________\n",
      "F1 Score: 0.8556984235435277\n"
     ]
    }
   ],
   "source": [
    "print('Classification Report:\\n')\n",
    "print(classification_report(test['sentiment'], pred_y_mnb))\n",
    "print('_'*100)\n",
    "print('Accuracy:',accuracy_score(test['sentiment'], pred_y_mnb))\n",
    "print('_'*100)\n",
    "print('F1 Score:',f1_score(test['sentiment'], pred_y_mnb, average='weighted'))"
   ]
  },
  {
   "cell_type": "markdown",
   "id": "19c3a8e8",
   "metadata": {},
   "source": [
    "<br><br><span style='font-size:30px'>Random Forest</span>"
   ]
  },
  {
   "cell_type": "code",
   "execution_count": 56,
   "id": "d01a03a9",
   "metadata": {},
   "outputs": [],
   "source": [
    "from sklearn.ensemble import RandomForestClassifier"
   ]
  },
  {
   "cell_type": "code",
   "execution_count": 67,
   "id": "93094c7f",
   "metadata": {},
   "outputs": [
    {
     "data": {
      "text/html": [
       "<style>#sk-container-id-3 {color: black;}#sk-container-id-3 pre{padding: 0;}#sk-container-id-3 div.sk-toggleable {background-color: white;}#sk-container-id-3 label.sk-toggleable__label {cursor: pointer;display: block;width: 100%;margin-bottom: 0;padding: 0.3em;box-sizing: border-box;text-align: center;}#sk-container-id-3 label.sk-toggleable__label-arrow:before {content: \"▸\";float: left;margin-right: 0.25em;color: #696969;}#sk-container-id-3 label.sk-toggleable__label-arrow:hover:before {color: black;}#sk-container-id-3 div.sk-estimator:hover label.sk-toggleable__label-arrow:before {color: black;}#sk-container-id-3 div.sk-toggleable__content {max-height: 0;max-width: 0;overflow: hidden;text-align: left;background-color: #f0f8ff;}#sk-container-id-3 div.sk-toggleable__content pre {margin: 0.2em;color: black;border-radius: 0.25em;background-color: #f0f8ff;}#sk-container-id-3 input.sk-toggleable__control:checked~div.sk-toggleable__content {max-height: 200px;max-width: 100%;overflow: auto;}#sk-container-id-3 input.sk-toggleable__control:checked~label.sk-toggleable__label-arrow:before {content: \"▾\";}#sk-container-id-3 div.sk-estimator input.sk-toggleable__control:checked~label.sk-toggleable__label {background-color: #d4ebff;}#sk-container-id-3 div.sk-label input.sk-toggleable__control:checked~label.sk-toggleable__label {background-color: #d4ebff;}#sk-container-id-3 input.sk-hidden--visually {border: 0;clip: rect(1px 1px 1px 1px);clip: rect(1px, 1px, 1px, 1px);height: 1px;margin: -1px;overflow: hidden;padding: 0;position: absolute;width: 1px;}#sk-container-id-3 div.sk-estimator {font-family: monospace;background-color: #f0f8ff;border: 1px dotted black;border-radius: 0.25em;box-sizing: border-box;margin-bottom: 0.5em;}#sk-container-id-3 div.sk-estimator:hover {background-color: #d4ebff;}#sk-container-id-3 div.sk-parallel-item::after {content: \"\";width: 100%;border-bottom: 1px solid gray;flex-grow: 1;}#sk-container-id-3 div.sk-label:hover label.sk-toggleable__label {background-color: #d4ebff;}#sk-container-id-3 div.sk-serial::before {content: \"\";position: absolute;border-left: 1px solid gray;box-sizing: border-box;top: 0;bottom: 0;left: 50%;z-index: 0;}#sk-container-id-3 div.sk-serial {display: flex;flex-direction: column;align-items: center;background-color: white;padding-right: 0.2em;padding-left: 0.2em;position: relative;}#sk-container-id-3 div.sk-item {position: relative;z-index: 1;}#sk-container-id-3 div.sk-parallel {display: flex;align-items: stretch;justify-content: center;background-color: white;position: relative;}#sk-container-id-3 div.sk-item::before, #sk-container-id-3 div.sk-parallel-item::before {content: \"\";position: absolute;border-left: 1px solid gray;box-sizing: border-box;top: 0;bottom: 0;left: 50%;z-index: -1;}#sk-container-id-3 div.sk-parallel-item {display: flex;flex-direction: column;z-index: 1;position: relative;background-color: white;}#sk-container-id-3 div.sk-parallel-item:first-child::after {align-self: flex-end;width: 50%;}#sk-container-id-3 div.sk-parallel-item:last-child::after {align-self: flex-start;width: 50%;}#sk-container-id-3 div.sk-parallel-item:only-child::after {width: 0;}#sk-container-id-3 div.sk-dashed-wrapped {border: 1px dashed gray;margin: 0 0.4em 0.5em 0.4em;box-sizing: border-box;padding-bottom: 0.4em;background-color: white;}#sk-container-id-3 div.sk-label label {font-family: monospace;font-weight: bold;display: inline-block;line-height: 1.2em;}#sk-container-id-3 div.sk-label-container {text-align: center;}#sk-container-id-3 div.sk-container {/* jupyter's `normalize.less` sets `[hidden] { display: none; }` but bootstrap.min.css set `[hidden] { display: none !important; }` so we also need the `!important` here to be able to override the default hidden behavior on the sphinx rendered scikit-learn.org. See: https://github.com/scikit-learn/scikit-learn/issues/21755 */display: inline-block !important;position: relative;}#sk-container-id-3 div.sk-text-repr-fallback {display: none;}</style><div id=\"sk-container-id-3\" class=\"sk-top-container\"><div class=\"sk-text-repr-fallback\"><pre>RandomForestClassifier(n_jobs=-1, random_state=0)</pre><b>In a Jupyter environment, please rerun this cell to show the HTML representation or trust the notebook. <br />On GitHub, the HTML representation is unable to render, please try loading this page with nbviewer.org.</b></div><div class=\"sk-container\" hidden><div class=\"sk-item\"><div class=\"sk-estimator sk-toggleable\"><input class=\"sk-toggleable__control sk-hidden--visually\" id=\"sk-estimator-id-3\" type=\"checkbox\" checked><label for=\"sk-estimator-id-3\" class=\"sk-toggleable__label sk-toggleable__label-arrow\">RandomForestClassifier</label><div class=\"sk-toggleable__content\"><pre>RandomForestClassifier(n_jobs=-1, random_state=0)</pre></div></div></div></div></div>"
      ],
      "text/plain": [
       "RandomForestClassifier(n_jobs=-1, random_state=0)"
      ]
     },
     "execution_count": 67,
     "metadata": {},
     "output_type": "execute_result"
    }
   ],
   "source": [
    "rf = RandomForestClassifier(random_state=0,n_jobs=-1)\n",
    "rf.fit(X_train, train['sentiment'])"
   ]
  },
  {
   "cell_type": "code",
   "execution_count": 69,
   "id": "8f0b66af",
   "metadata": {},
   "outputs": [],
   "source": [
    "pred_y_rf = rf.predict(X_test)"
   ]
  },
  {
   "cell_type": "code",
   "execution_count": 70,
   "id": "8f6dc7e7",
   "metadata": {},
   "outputs": [
    {
     "name": "stdout",
     "output_type": "stream",
     "text": [
      "Classification Report:\n",
      "\n",
      "              precision    recall  f1-score   support\n",
      "\n",
      "    negative       0.85      0.85      0.85      4909\n",
      "    positive       0.86      0.85      0.85      5008\n",
      "\n",
      "    accuracy                           0.85      9917\n",
      "   macro avg       0.85      0.85      0.85      9917\n",
      "weighted avg       0.85      0.85      0.85      9917\n",
      "\n",
      "____________________________________________________________________________________________________\n",
      "Accuracy: 0.8504588081072905\n",
      "____________________________________________________________________________________________________\n",
      "F1 Score: 0.8504625335452527\n"
     ]
    }
   ],
   "source": [
    "print('Classification Report:\\n')\n",
    "print(classification_report(test['sentiment'], pred_y_rf))\n",
    "print('_'*100)\n",
    "print('Accuracy:',accuracy_score(test['sentiment'], pred_y_rf))\n",
    "print('_'*100)\n",
    "print('F1 Score:',f1_score(test['sentiment'], pred_y_rf, average='weighted'))"
   ]
  },
  {
   "cell_type": "markdown",
   "id": "40d29e41",
   "metadata": {},
   "source": [
    "<br><br><span style='font-size:50px'>Testing the Model</span>"
   ]
  },
  {
   "cell_type": "code",
   "execution_count": 71,
   "id": "29343ab6",
   "metadata": {},
   "outputs": [],
   "source": [
    "import numpy as np"
   ]
  },
  {
   "cell_type": "code",
   "execution_count": 72,
   "id": "c4f5f783",
   "metadata": {},
   "outputs": [],
   "source": [
    "def test_classifier(clf,input_text):\n",
    "    input_text = removeHTML(input_text)\n",
    "    input_text = removeStopWords(input_text)\n",
    "    input_text = Lemmatizing(input_text)\n",
    "    input_text = removeNoise(input_text)\n",
    "    text_2_vec = vectorizer.transform(np.array([input_text]))    \n",
    "\n",
    "    pred_y = clf.predict(text_2_vec)\n",
    "\n",
    "    if pred_y == 'positive':\n",
    "        return ('Positive.')\n",
    "    else:\n",
    "        return ('Negative.')"
   ]
  },
  {
   "cell_type": "code",
   "execution_count": 73,
   "id": "691044a4",
   "metadata": {},
   "outputs": [],
   "source": [
    "#Trained Classifiers: mnb, rf"
   ]
  },
  {
   "cell_type": "code",
   "execution_count": 74,
   "id": "027fc442",
   "metadata": {},
   "outputs": [
    {
     "name": "stdout",
     "output_type": "stream",
     "text": [
      "Text: \"Lacking coherence and depth, the 2015 \"Fantastic Four\" adaptation falters with weak\n",
      "                characterization and a disjointed plot, failing to capture the essence of its source material.\".\n",
      "Sentiment: Negative.\n"
     ]
    }
   ],
   "source": [
    "input_text = '''Lacking coherence and depth, the 2015 \"Fantastic Four\" adaptation falters with weak\n",
    "                characterization and a disjointed plot, failing to capture the essence of its source material.'''\n",
    "\n",
    "print('Text: \"'+input_text+'\".')\n",
    "\n",
    "print('Sentiment:',test_classifier(mnb,input_text))"
   ]
  },
  {
   "cell_type": "code",
   "execution_count": 75,
   "id": "b327fb0e",
   "metadata": {},
   "outputs": [
    {
     "name": "stdout",
     "output_type": "stream",
     "text": [
      "Text: \"A groundbreaking blend of stunning visuals and thrilling storytelling,\n",
      "                \"Jurassic Park\" remains a timeless adventure that defined the blockbuster experience.\".\n",
      "Sentiment: Positive.\n"
     ]
    }
   ],
   "source": [
    "input_text = '''A groundbreaking blend of stunning visuals and thrilling storytelling,\n",
    "                \"Jurassic Park\" remains a timeless adventure that defined the blockbuster experience.'''\n",
    "\n",
    "print('Text: \"'+input_text+'\".')\n",
    "\n",
    "print('Sentiment:',test_classifier(mnb,input_text))"
   ]
  },
  {
   "cell_type": "code",
   "execution_count": 76,
   "id": "a64c4f54",
   "metadata": {},
   "outputs": [
    {
     "name": "stdout",
     "output_type": "stream",
     "text": [
      "Text: \"An intense, gripping saga showcasing Heath Ledgers mesmerizing performance\n",
      "                as the Joker. \"The Dark Knight\" stands as a triumph in the superhero genre, blending action with profound storytelling.\".\n",
      "Sentiment: Positive.\n"
     ]
    }
   ],
   "source": [
    "input_text = '''An intense, gripping saga showcasing Heath Ledgers mesmerizing performance\n",
    "                as the Joker. \"The Dark Knight\" stands as a triumph in the superhero genre, blending action with profound storytelling.'''\n",
    "\n",
    "print('Text: \"'+input_text+'\".')\n",
    "\n",
    "print('Sentiment:',test_classifier(rf,input_text))"
   ]
  },
  {
   "cell_type": "code",
   "execution_count": 77,
   "id": "db29ce0a",
   "metadata": {},
   "outputs": [
    {
     "name": "stdout",
     "output_type": "stream",
     "text": [
      "Text: \"A disjointed mess with flashes of potential. \"Suicide Squad\" suffers from an uneven plot, \n",
      "                underdeveloped characters, and tonal inconsistencies that undermine its promising premise.\".\n",
      "Sentiment: Negative.\n"
     ]
    }
   ],
   "source": [
    "input_text = '''A disjointed mess with flashes of potential. \"Suicide Squad\" suffers from an uneven plot, \n",
    "                underdeveloped characters, and tonal inconsistencies that undermine its promising premise.'''\n",
    "\n",
    "print('Text: \"'+input_text+'\".')\n",
    "\n",
    "print('Sentiment:',test_classifier(rf,input_text))"
   ]
  },
  {
   "cell_type": "code",
   "execution_count": 78,
   "id": "e8948846",
   "metadata": {},
   "outputs": [
    {
     "name": "stdout",
     "output_type": "stream",
     "text": [
      "Text: \"Revolutionary in both visuals and narrative, \"The Matrix\" is a mind-bending sci-fi classic\n",
      "                that redefined action cinema, setting new standards for storytelling and special effects.\".\n",
      "Sentiment: Positive.\n"
     ]
    }
   ],
   "source": [
    "input_text = '''Revolutionary in both visuals and narrative, \"The Matrix\" is a mind-bending sci-fi classic\n",
    "                that redefined action cinema, setting new standards for storytelling and special effects.'''\n",
    "\n",
    "print('Text: \"'+input_text+'\".')\n",
    "\n",
    "print('Sentiment:',test_classifier(rf,input_text))"
   ]
  },
  {
   "cell_type": "code",
   "execution_count": 79,
   "id": "d8f6ab22",
   "metadata": {},
   "outputs": [
    {
     "name": "stdout",
     "output_type": "stream",
     "text": [
      "Text: \"\"Whiplash\" is a tour de force that resonates deeply. Its intense narrative, fueled by stellar performances and\n",
      "                an electrifying soundtrack, makes it an unforgettable cinematic experience.\".\n",
      "Sentiment: Positive.\n"
     ]
    }
   ],
   "source": [
    "input_text = '''\"Whiplash\" is a tour de force that resonates deeply. Its intense narrative, fueled by stellar performances and\n",
    "                an electrifying soundtrack, makes it an unforgettable cinematic experience.'''\n",
    "\n",
    "print('Text: \"'+input_text+'\".')\n",
    "\n",
    "print('Sentiment:',test_classifier(mnb,input_text))"
   ]
  },
  {
   "cell_type": "code",
   "execution_count": 80,
   "id": "46a40858",
   "metadata": {},
   "outputs": [
    {
     "name": "stdout",
     "output_type": "stream",
     "text": [
      "Text: \"\"M. Night Shyamalan's \"The Happening\" is a misfire, featuring a disjointed plot \n",
      "                and cringe-inducing dialogue. Despite a promising premise, it falls flat, lacking both suspense and coherence.\".\n",
      "Sentiment: Negative.\n"
     ]
    }
   ],
   "source": [
    "input_text = '''\"M. Night Shyamalan's \"The Happening\" is a misfire, featuring a disjointed plot \n",
    "                and cringe-inducing dialogue. Despite a promising premise, it falls flat, lacking both suspense and coherence.'''\n",
    "\n",
    "print('Text: \"'+input_text+'\".')\n",
    "\n",
    "print('Sentiment:',test_classifier(mnb,input_text))"
   ]
  },
  {
   "cell_type": "code",
   "execution_count": null,
   "id": "91e78115",
   "metadata": {},
   "outputs": [],
   "source": []
  },
  {
   "cell_type": "code",
   "execution_count": null,
   "id": "efe898a7",
   "metadata": {},
   "outputs": [],
   "source": []
  },
  {
   "cell_type": "code",
   "execution_count": null,
   "id": "5431e18c",
   "metadata": {},
   "outputs": [],
   "source": []
  },
  {
   "cell_type": "code",
   "execution_count": null,
   "id": "565cb154",
   "metadata": {},
   "outputs": [],
   "source": []
  }
 ],
 "metadata": {
  "kernelspec": {
   "display_name": "Python 3 (ipykernel)",
   "language": "python",
   "name": "python3"
  },
  "language_info": {
   "codemirror_mode": {
    "name": "ipython",
    "version": 3
   },
   "file_extension": ".py",
   "mimetype": "text/x-python",
   "name": "python",
   "nbconvert_exporter": "python",
   "pygments_lexer": "ipython3",
   "version": "3.11.4"
  }
 },
 "nbformat": 4,
 "nbformat_minor": 5
}
